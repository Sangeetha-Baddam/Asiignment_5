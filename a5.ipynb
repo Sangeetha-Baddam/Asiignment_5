{
  "metadata": {
    "kernelspec": {
      "name": "python",
      "display_name": "Python (Pyodide)",
      "language": "python"
    },
    "language_info": {
      "codemirror_mode": {
        "name": "python",
        "version": 3
      },
      "file_extension": ".py",
      "mimetype": "text/x-python",
      "name": "python",
      "nbconvert_exporter": "python",
      "pygments_lexer": "ipython3",
      "version": "3.8"
    }
  },
  "nbformat_minor": 4,
  "nbformat": 4,
  "cells": [
    {
      "cell_type": "code",
      "source": "#importing set of libraries\nimport pandas as pd\nfrom sklearn.model_selection import train_test_split\nfrom sklearn.naive_bayes import GaussianNB\nfrom sklearn.metrics import classification_report, accuracy_score\nimport warnings\nwarnings.filterwarnings(\"ignore\")\nfrom sklearn import metrics",
      "metadata": {
        "trusted": true
      },
      "outputs": [],
      "execution_count": 1
    },
    {
      "cell_type": "code",
      "source": "#importing the given dataset glass.csv\ndst_Data = pd.read_csv(\"glass.csv\")\ndst_Data.info()",
      "metadata": {
        "trusted": true
      },
      "outputs": [
        {
          "name": "stdout",
          "text": "<class 'pandas.core.frame.DataFrame'>\nRangeIndex: 214 entries, 0 to 213\nData columns (total 10 columns):\n #   Column  Non-Null Count  Dtype  \n---  ------  --------------  -----  \n 0   RI      214 non-null    float64\n 1   Na      214 non-null    float64\n 2   Mg      214 non-null    float64\n 3   Al      214 non-null    float64\n 4   Si      214 non-null    float64\n 5   K       214 non-null    float64\n 6   Ca      214 non-null    float64\n 7   Ba      214 non-null    float64\n 8   Fe      214 non-null    float64\n 9   Type    214 non-null    int64  \ndtypes: float64(9), int64(1)\nmemory usage: 16.8 KB\n",
          "output_type": "stream"
        }
      ],
      "execution_count": 3
    },
    {
      "cell_type": "code",
      "source": "",
      "metadata": {
        "trusted": true
      },
      "outputs": [],
      "execution_count": null
    },
    {
      "cell_type": "code",
      "source": "",
      "metadata": {
        "trusted": true
      },
      "outputs": [],
      "execution_count": null
    }
  ]
}